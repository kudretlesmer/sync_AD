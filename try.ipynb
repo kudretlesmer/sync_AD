{
 "cells": [
  {
   "cell_type": "code",
   "execution_count": 3,
   "metadata": {},
   "outputs": [
    {
     "name": "stdout",
     "output_type": "stream",
     "text": [
      "tensor([-1.1010e-17,  1.1874e-01,  2.3036e-01,  3.3475e-01,  4.3180e-01,\n",
      "         5.2140e-01,  6.0344e-01,  6.7780e-01,  7.4436e-01,  8.0303e-01,\n",
      "         8.5367e-01,  8.9619e-01,  9.3047e-01,  9.5639e-01,  9.7385e-01,\n",
      "         9.8273e-01,  9.8292e-01,  9.7430e-01,  9.5677e-01,  9.3021e-01,\n",
      "         8.9450e-01,  8.4955e-01,  7.9522e-01,  7.3161e-01,  6.5959e-01,\n",
      "         5.8023e-01,  4.9460e-01,  4.0377e-01,  3.0881e-01,  2.1078e-01,\n",
      "         1.1076e-01,  9.8147e-03, -9.0984e-02, -1.9057e-01, -2.8792e-01,\n",
      "        -3.8220e-01, -4.7264e-01, -5.5846e-01, -6.3888e-01, -7.1311e-01,\n",
      "        -7.8039e-01, -8.3993e-01, -8.9095e-01, -9.3267e-01, -9.6432e-01,\n",
      "        -9.8529e-01, -9.9571e-01, -9.9588e-01, -9.8612e-01, -9.6672e-01,\n",
      "        -9.3799e-01, -9.0024e-01, -8.5377e-01, -7.9889e-01, -7.3590e-01,\n",
      "        -6.6510e-01, -5.8693e-01, -5.0233e-01, -4.1234e-01, -3.1804e-01,\n",
      "        -2.2047e-01, -1.2070e-01, -1.9782e-02,  8.1220e-02,  1.8125e-01,\n",
      "         2.7925e-01,  3.7415e-01,  4.6497e-01,  5.5097e-01,  6.3148e-01,\n",
      "         7.0582e-01,  7.7332e-01,  8.3331e-01,  8.8512e-01,  9.2807e-01,\n",
      "         9.6150e-01,  9.8474e-01,  9.9710e-01,  9.9813e-01,  9.8825e-01,\n",
      "         9.6807e-01,  9.3821e-01,  8.9930e-01,  8.5196e-01,  7.9682e-01,\n",
      "         7.3449e-01,  6.6559e-01,  5.9076e-01,  5.1061e-01,  4.2576e-01,\n",
      "         3.3684e-01,  2.4447e-01,  1.4927e-01,  5.1865e-02, -4.7122e-02,\n",
      "        -1.4707e-01, -2.4736e-01, -3.4736e-01, -4.4645e-01, -5.4402e-01],\n",
      "       dtype=torch.float64)\n"
     ]
    }
   ],
   "source": [
    "import torch\n",
    "import numpy as np\n",
    "from scipy.interpolate import splrep, splev\n",
    "\n",
    "# Input data\n",
    "x = torch.linspace(0, 10, steps=10)\n",
    "y = torch.sin(x)\n",
    "\n",
    "# Convert to NumPy for SciPy\n",
    "x_np = x.detach().numpy()\n",
    "y_np = y.detach().numpy()\n",
    "\n",
    "# Create a spline representation\n",
    "spl = splrep(x_np, y_np, s=0)\n",
    "\n",
    "# Interpolation points\n",
    "x_interp = torch.linspace(0, 10, steps=100)\n",
    "x_interp_np = x_interp.detach().numpy()\n",
    "\n",
    "# Evaluate spline\n",
    "y_interp_np = splev(x_interp_np, spl)\n",
    "y_interp = torch.tensor(y_interp_np)\n",
    "\n",
    "print(y_interp)"
   ]
  }
 ],
 "metadata": {
  "kernelspec": {
   "display_name": ".venv",
   "language": "python",
   "name": "python3"
  },
  "language_info": {
   "codemirror_mode": {
    "name": "ipython",
    "version": 3
   },
   "file_extension": ".py",
   "mimetype": "text/x-python",
   "name": "python",
   "nbconvert_exporter": "python",
   "pygments_lexer": "ipython3",
   "version": "3.12.3"
  }
 },
 "nbformat": 4,
 "nbformat_minor": 2
}
